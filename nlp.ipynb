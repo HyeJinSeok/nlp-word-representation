{
  "nbformat": 4,
  "nbformat_minor": 0,
  "metadata": {
    "colab": {
      "provenance": []
    },
    "kernelspec": {
      "name": "python3",
      "display_name": "Python 3"
    },
    "language_info": {
      "name": "python"
    }
  },
  "cells": [
    {
      "cell_type": "code",
      "source": [
        "# 한글 폰트 설치 + 캐시 삭제\n",
        "!apt-get update -qq\n",
        "!apt-get install -y fonts-nanum\n",
        "!fc-cache -fv\n",
        "!rm -rf ~/.cache/matplotlib\n"
      ],
      "metadata": {
        "colab": {
          "base_uri": "https://localhost:8080/"
        },
        "id": "EdWzNvkV0PC0",
        "outputId": "25944069-b12a-41fb-d57a-dff93521cd87"
      },
      "execution_count": 19,
      "outputs": [
        {
          "output_type": "stream",
          "name": "stdout",
          "text": [
            "W: Skipping acquire of configured file 'main/source/Sources' as repository 'https://r2u.stat.illinois.edu/ubuntu jammy InRelease' does not seem to provide it (sources.list entry misspelt?)\n",
            "Reading package lists... Done\n",
            "Building dependency tree... Done\n",
            "Reading state information... Done\n",
            "fonts-nanum is already the newest version (20200506-1).\n",
            "0 upgraded, 0 newly installed, 0 to remove and 40 not upgraded.\n",
            "/usr/share/fonts: caching, new cache contents: 0 fonts, 1 dirs\n",
            "/usr/share/fonts/truetype: caching, new cache contents: 0 fonts, 3 dirs\n",
            "/usr/share/fonts/truetype/humor-sans: caching, new cache contents: 1 fonts, 0 dirs\n",
            "/usr/share/fonts/truetype/liberation: caching, new cache contents: 16 fonts, 0 dirs\n",
            "/usr/share/fonts/truetype/nanum: caching, new cache contents: 12 fonts, 0 dirs\n",
            "/usr/local/share/fonts: caching, new cache contents: 0 fonts, 0 dirs\n",
            "/root/.local/share/fonts: skipping, no such directory\n",
            "/root/.fonts: skipping, no such directory\n",
            "/usr/share/fonts/truetype: skipping, looped directory detected\n",
            "/usr/share/fonts/truetype/humor-sans: skipping, looped directory detected\n",
            "/usr/share/fonts/truetype/liberation: skipping, looped directory detected\n",
            "/usr/share/fonts/truetype/nanum: skipping, looped directory detected\n",
            "/var/cache/fontconfig: cleaning cache directory\n",
            "/root/.cache/fontconfig: not cleaning non-existent cache directory\n",
            "/root/.fontconfig: not cleaning non-existent cache directory\n",
            "fc-cache: succeeded\n"
          ]
        }
      ]
    },
    {
      "cell_type": "code",
      "source": [
        "#런타임 재시작 (Runtime → Restart runtime) 후에 다시 임포트\n",
        "\n",
        "import matplotlib.pyplot as plt\n",
        "\n",
        "plt.rc('font', family='NanumGothic')\n",
        "plt.rcParams['axes.unicode_minus'] = False"
      ],
      "metadata": {
        "id": "X-3pzTYE0gTi"
      },
      "execution_count": 1,
      "outputs": []
    },
    {
      "cell_type": "code",
      "execution_count": 2,
      "metadata": {
        "colab": {
          "base_uri": "https://localhost:8080/"
        },
        "id": "pVx-M24RwKiS",
        "outputId": "86067659-ce9e-4075-ea0a-ec7fc80cb9b2"
      },
      "outputs": [
        {
          "output_type": "stream",
          "name": "stdout",
          "text": [
            "Requirement already satisfied: konlpy in /usr/local/lib/python3.12/dist-packages (0.6.0)\n",
            "Requirement already satisfied: JPype1>=0.7.0 in /usr/local/lib/python3.12/dist-packages (from konlpy) (1.6.0)\n",
            "Requirement already satisfied: lxml>=4.1.0 in /usr/local/lib/python3.12/dist-packages (from konlpy) (5.4.0)\n",
            "Requirement already satisfied: numpy>=1.6 in /usr/local/lib/python3.12/dist-packages (from konlpy) (1.26.4)\n",
            "Requirement already satisfied: packaging in /usr/local/lib/python3.12/dist-packages (from JPype1>=0.7.0->konlpy) (25.0)\n"
          ]
        },
        {
          "output_type": "stream",
          "name": "stderr",
          "text": [
            "[nltk_data] Downloading package punkt to /root/nltk_data...\n",
            "[nltk_data]   Package punkt is already up-to-date!\n",
            "[nltk_data] Downloading package stopwords to /root/nltk_data...\n",
            "[nltk_data]   Package stopwords is already up-to-date!\n"
          ]
        },
        {
          "output_type": "execute_result",
          "data": {
            "text/plain": [
              "True"
            ]
          },
          "metadata": {},
          "execution_count": 2
        }
      ],
      "source": [
        "# 기본 설정\n",
        "!pip install konlpy\n",
        "\n",
        "import nltk\n",
        "import random\n",
        "import pandas as pd\n",
        "import numpy as np\n",
        "import matplotlib.pyplot as plt\n",
        "from sklearn.feature_extraction.text import CountVectorizer, TfidfVectorizer\n",
        "from konlpy.tag import Okt\n",
        "\n",
        "nltk.download('punkt')\n",
        "nltk.download('stopwords')"
      ]
    },
    {
      "cell_type": "code",
      "source": [
        "# N-gram\n",
        "text = \"I love natural language processing and I love Python\"\n",
        "\n",
        "tokens = text.split()\n",
        "bigrams = list(zip(tokens[:-1], tokens[1:]))\n",
        "print(\"Bigrams:\", bigrams)\n",
        "print(\"\\n\")\n",
        "\n",
        "# 조건부 확률\n",
        "words_dict = {}\n",
        "for i in range(len(tokens)-2):\n",
        "    bi = \" \".join(tokens[i:i+2])\n",
        "    words_dict.setdefault(bi, []).append(tokens[i+2])\n",
        "\n",
        "print(\"Conditional Probabilities:\", words_dict)"
      ],
      "metadata": {
        "colab": {
          "base_uri": "https://localhost:8080/"
        },
        "id": "7a4P7IyOwPZM",
        "outputId": "c4152cb7-8cee-4411-f540-a0c4a2974449"
      },
      "execution_count": 3,
      "outputs": [
        {
          "output_type": "stream",
          "name": "stdout",
          "text": [
            "Bigrams: [('I', 'love'), ('love', 'natural'), ('natural', 'language'), ('language', 'processing'), ('processing', 'and'), ('and', 'I'), ('I', 'love'), ('love', 'Python')]\n",
            "\n",
            "\n",
            "Conditional Probabilities: {'I love': ['natural', 'Python'], 'love natural': ['language'], 'natural language': ['processing'], 'language processing': ['and'], 'processing and': ['I'], 'and I': ['love']}\n"
          ]
        }
      ]
    },
    {
      "cell_type": "code",
      "source": [
        "# Bag of Words (BoW)\n",
        "corpus = [\n",
        "    \"먹고 싶은 사과\",\n",
        "    \"먹고 싶은 포도\",\n",
        "    \"길고 노란 바나나 바나나\",\n",
        "    \"저는 과일이 좋아요\"\n",
        "]\n",
        "\n",
        "vectorizer = CountVectorizer()\n",
        "bow = vectorizer.fit_transform(corpus).toarray()\n",
        "print(\"BoW Matrix:\\n\", bow)\n",
        "print(\"\\n\")\n",
        "print(\"Vocabulary:\", vectorizer.vocabulary_)\n"
      ],
      "metadata": {
        "colab": {
          "base_uri": "https://localhost:8080/"
        },
        "id": "TldlPAm-wwW1",
        "outputId": "8422d366-5b61-4db0-d95f-fd350e54f690"
      },
      "execution_count": 4,
      "outputs": [
        {
          "output_type": "stream",
          "name": "stdout",
          "text": [
            "BoW Matrix:\n",
            " [[0 0 0 1 0 1 1 0 0 0]\n",
            " [0 0 0 1 0 0 1 0 0 1]\n",
            " [0 1 1 0 2 0 0 0 0 0]\n",
            " [1 0 0 0 0 0 0 1 1 0]]\n",
            "\n",
            "\n",
            "Vocabulary: {'먹고': 3, '싶은': 6, '사과': 5, '포도': 9, '길고': 1, '노란': 2, '바나나': 4, '저는': 7, '과일이': 0, '좋아요': 8}\n"
          ]
        }
      ]
    },
    {
      "cell_type": "code",
      "source": [
        "# TF-IDF\n",
        "tfidf = TfidfVectorizer()\n",
        "tfidf_matrix = tfidf.fit_transform(corpus).toarray()\n",
        "print(\"TF-IDF Matrix:\\n\", tfidf_matrix)\n",
        "print(\"\\n\")\n",
        "print(\"Vocabulary:\", tfidf.vocabulary_)"
      ],
      "metadata": {
        "colab": {
          "base_uri": "https://localhost:8080/"
        },
        "id": "Chu8iQbAxGzy",
        "outputId": "a066ecf5-602d-4def-e8e0-11616659fe3f"
      },
      "execution_count": 5,
      "outputs": [
        {
          "output_type": "stream",
          "name": "stdout",
          "text": [
            "TF-IDF Matrix:\n",
            " [[0.         0.         0.         0.52640543 0.         0.66767854\n",
            "  0.52640543 0.         0.         0.        ]\n",
            " [0.         0.         0.         0.52640543 0.         0.\n",
            "  0.52640543 0.         0.         0.66767854]\n",
            " [0.         0.40824829 0.40824829 0.         0.81649658 0.\n",
            "  0.         0.         0.         0.        ]\n",
            " [0.57735027 0.         0.         0.         0.         0.\n",
            "  0.         0.57735027 0.57735027 0.        ]]\n",
            "\n",
            "\n",
            "Vocabulary: {'먹고': 3, '싶은': 6, '사과': 5, '포도': 9, '길고': 1, '노란': 2, '바나나': 4, '저는': 7, '과일이': 0, '좋아요': 8}\n"
          ]
        }
      ]
    },
    {
      "cell_type": "code",
      "source": [
        "# 한국어 형태소 분석 (Okt)\n",
        "okt = Okt()\n",
        "doc = \"정부가 발표하는 물가상승률과 소비자가 느끼는 물가상승률은 다르다.\"\n",
        "tokens = okt.morphs(doc)\n",
        "print(\"형태소 분석 결과:\", tokens)\n",
        "print(\"\\n\")\n",
        "\n",
        "# BoW 직접 구현\n",
        "word_to_index = {}\n",
        "bow_vec = []\n",
        "\n",
        "for word in tokens:\n",
        "    if word not in word_to_index:\n",
        "        word_to_index[word] = len(word_to_index)\n",
        "        bow_vec.insert(len(word_to_index)-1, 1)\n",
        "    else:\n",
        "        idx = word_to_index.get(word)\n",
        "        bow_vec[idx] += 1\n",
        "\n",
        "print(\"Word to Index:\", word_to_index)\n",
        "print(\"\\n\")\n",
        "print(\"BoW Vector:\", bow_vec)"
      ],
      "metadata": {
        "colab": {
          "base_uri": "https://localhost:8080/"
        },
        "id": "XEDnykaaxPjA",
        "outputId": "d9e2c57a-1676-47fe-8287-d5cda6778aff"
      },
      "execution_count": 6,
      "outputs": [
        {
          "output_type": "stream",
          "name": "stdout",
          "text": [
            "형태소 분석 결과: ['정부', '가', '발표', '하는', '물가상승률', '과', '소비자', '가', '느끼는', '물가상승률', '은', '다르다', '.']\n",
            "\n",
            "\n",
            "Word to Index: {'정부': 0, '가': 1, '발표': 2, '하는': 3, '물가상승률': 4, '과': 5, '소비자': 6, '느끼는': 7, '은': 8, '다르다': 9, '.': 10}\n",
            "\n",
            "\n",
            "BoW Vector: [1, 2, 1, 1, 2, 1, 1, 1, 1, 1, 1]\n"
          ]
        }
      ]
    },
    {
      "cell_type": "code",
      "source": [
        "# Word2Vec (gensim 라이브러리 활용)\n",
        "!pip install gensim\n",
        "\n",
        "from gensim.models import Word2Vec\n",
        "\n",
        "sentences = [\n",
        "    [\"나는\", \"밥을\", \"먹는다\"],\n",
        "    [\"너는\", \"밥을\", \"먹었다\"],\n",
        "    [\"그는\", \"사과를\", \"좋아한다\"],\n",
        "    [\"우리는\", \"파이썬을\", \"공부한다\"]\n",
        "]\n",
        "\n",
        "model = Word2Vec(sentences, vector_size=50, window=3, min_count=1, sg=0) # sg=0 → CBOW, sg=1 → Skip-gram\n",
        "\n",
        "similar_words = model.wv.most_similar(\"밥을\")\n",
        "\n",
        "print(\"\\n\")\n",
        "print(\"'밥을'과 유사한 단어들:\\n\")\n",
        "for word, score in similar_words:\n",
        "    print(f\"{word} : {score:.4f}\")"
      ],
      "metadata": {
        "colab": {
          "base_uri": "https://localhost:8080/"
        },
        "id": "ZfhB6VzFxZC4",
        "outputId": "74d34f5f-2786-4cd4-8a69-1b77e719ea2a"
      },
      "execution_count": 7,
      "outputs": [
        {
          "output_type": "stream",
          "name": "stdout",
          "text": [
            "Requirement already satisfied: gensim in /usr/local/lib/python3.12/dist-packages (4.3.3)\n",
            "Requirement already satisfied: numpy<2.0,>=1.18.5 in /usr/local/lib/python3.12/dist-packages (from gensim) (1.26.4)\n",
            "Requirement already satisfied: scipy<1.14.0,>=1.7.0 in /usr/local/lib/python3.12/dist-packages (from gensim) (1.13.1)\n",
            "Requirement already satisfied: smart-open>=1.8.1 in /usr/local/lib/python3.12/dist-packages (from gensim) (7.3.1)\n",
            "Requirement already satisfied: wrapt in /usr/local/lib/python3.12/dist-packages (from smart-open>=1.8.1->gensim) (1.17.3)\n",
            "\n",
            "\n",
            "'밥을'과 유사한 단어들:\n",
            "\n",
            "먹었다 : 0.1320\n",
            "파이썬을 : 0.1267\n",
            "먹는다 : 0.0998\n",
            "공부한다 : 0.0424\n",
            "사과를 : 0.0124\n",
            "나는 : -0.0126\n",
            "우리는 : -0.0145\n",
            "너는 : -0.0561\n",
            "그는 : -0.0597\n",
            "좋아한다 : -0.1182\n"
          ]
        }
      ]
    },
    {
      "cell_type": "code",
      "source": [
        "from sklearn.decomposition import PCA\n",
        "\n",
        "# Word2Vec에서 단어 리스트와 벡터 불러오기\n",
        "words = list(model.wv.index_to_key)   # 학습된 단어들\n",
        "X = model.wv[words]                   # 해당 벡터들\n",
        "\n",
        "# PCA로 2차원 축소\n",
        "pca = PCA(n_components=2)\n",
        "X_reduced = pca.fit_transform(X)"
      ],
      "metadata": {
        "id": "ndD3--LB0_Rx"
      },
      "execution_count": 9,
      "outputs": []
    },
    {
      "cell_type": "code",
      "source": [
        "# 시각화 (Word2Vec 임베딩 공간 일부)\n",
        "import matplotlib.pyplot as plt\n",
        "plt.rc('font', family='NanumGothic')\n",
        "plt.rcParams['axes.unicode_minus'] = False\n",
        "\n",
        "# 시각화\n",
        "plt.figure(figsize=(8,6))\n",
        "plt.scatter(X_reduced[:,0], X_reduced[:,1])\n",
        "\n",
        "for i, word in enumerate(words):\n",
        "    plt.annotate(word, (X_reduced[i,0], X_reduced[i,1]))\n",
        "plt.title(\"Word2Vec 임베딩 (PCA 2D)\")\n",
        "plt.show()"
      ],
      "metadata": {
        "colab": {
          "base_uri": "https://localhost:8080/",
          "height": 544
        },
        "id": "9HHT4ZafzDuQ",
        "outputId": "3e5a5024-995a-4b26-b377-5dce2755da55"
      },
      "execution_count": 10,
      "outputs": [
        {
          "output_type": "display_data",
          "data": {
            "text/plain": [
              "<Figure size 800x600 with 1 Axes>"
            ],
            "image/png": "[encoded data removed]"
          },
          "metadata": {}
        }
      ]
    }
  ]
}